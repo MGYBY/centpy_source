{
 "cells": [
  {
   "cell_type": "code",
   "execution_count": 1,
   "id": "3aff96d5",
   "metadata": {},
   "outputs": [],
   "source": [
    "import sympy as sp"
   ]
  },
  {
   "cell_type": "code",
   "execution_count": 2,
   "id": "85383210",
   "metadata": {},
   "outputs": [],
   "source": [
    "q, h, g = sp.symbols(\"q, h, g\")"
   ]
  },
  {
   "cell_type": "code",
   "execution_count": 3,
   "id": "644cdcf1",
   "metadata": {},
   "outputs": [],
   "source": [
    "β = sp.symbols(\"beta\")"
   ]
  },
  {
   "cell_type": "code",
   "execution_count": 4,
   "id": "3051d648",
   "metadata": {},
   "outputs": [
    {
     "data": {
      "text/latex": [
       "$\\displaystyle \\beta$"
      ],
      "text/plain": [
       "beta"
      ]
     },
     "execution_count": 4,
     "metadata": {},
     "output_type": "execute_result"
    }
   ],
   "source": [
    "β"
   ]
  },
  {
   "cell_type": "code",
   "execution_count": 5,
   "id": "0b9c034b",
   "metadata": {},
   "outputs": [],
   "source": [
    "aa = sp.symbols(\"alpha\")"
   ]
  },
  {
   "cell_type": "code",
   "execution_count": 6,
   "id": "b7a78f69",
   "metadata": {},
   "outputs": [
    {
     "data": {
      "text/latex": [
       "$\\displaystyle \\alpha$"
      ],
      "text/plain": [
       "alpha"
      ]
     },
     "execution_count": 6,
     "metadata": {},
     "output_type": "execute_result"
    }
   ],
   "source": [
    "aa"
   ]
  },
  {
   "cell_type": "code",
   "execution_count": 7,
   "id": "660ea50b",
   "metadata": {},
   "outputs": [],
   "source": [
    "f1 = q\n",
    "f2 = β*q**2/h+1/2*g*h**2"
   ]
  },
  {
   "cell_type": "code",
   "execution_count": 8,
   "id": "7d5ec889",
   "metadata": {},
   "outputs": [],
   "source": [
    "j11 = sp.diff(f1,h)\n",
    "j12 = sp.diff(f1,q)\n",
    "j21 = sp.diff(f2, h)\n",
    "j22 = sp.diff(f2, q)"
   ]
  },
  {
   "cell_type": "code",
   "execution_count": 9,
   "id": "a20c11ad",
   "metadata": {},
   "outputs": [
    {
     "data": {
      "text/plain": [
       "(0, 1, -beta*q**2/h**2 + 1.0*g*h, 2*beta*q/h)"
      ]
     },
     "execution_count": 9,
     "metadata": {},
     "output_type": "execute_result"
    }
   ],
   "source": [
    "j11, j12, j21, j22"
   ]
  },
  {
   "cell_type": "code",
   "execution_count": 10,
   "id": "2e92df62",
   "metadata": {},
   "outputs": [
    {
     "data": {
      "text/latex": [
       "$\\displaystyle \\frac{\\beta q^{2}}{h} + 0.5 g h^{2}$"
      ],
      "text/plain": [
       "beta*q**2/h + 0.5*g*h**2"
      ]
     },
     "execution_count": 10,
     "metadata": {},
     "output_type": "execute_result"
    }
   ],
   "source": [
    "f2"
   ]
  },
  {
   "cell_type": "code",
   "execution_count": 11,
   "id": "ae5db622",
   "metadata": {},
   "outputs": [
    {
     "data": {
      "text/latex": [
       "$\\displaystyle 1$"
      ],
      "text/plain": [
       "1"
      ]
     },
     "execution_count": 11,
     "metadata": {},
     "output_type": "execute_result"
    }
   ],
   "source": [
    "j12"
   ]
  },
  {
   "cell_type": "code",
   "execution_count": 12,
   "id": "68f6846b",
   "metadata": {},
   "outputs": [
    {
     "data": {
      "text/latex": [
       "$\\displaystyle - \\frac{\\beta q^{2}}{h^{2}} + 1.0 g h$"
      ],
      "text/plain": [
       "-beta*q**2/h**2 + 1.0*g*h"
      ]
     },
     "execution_count": 12,
     "metadata": {},
     "output_type": "execute_result"
    }
   ],
   "source": [
    "j21"
   ]
  },
  {
   "cell_type": "code",
   "execution_count": 14,
   "id": "4cf3404b",
   "metadata": {},
   "outputs": [],
   "source": [
    "jac = sp.Matrix([[j11, j12],[j21, j22]])"
   ]
  },
  {
   "cell_type": "code",
   "execution_count": 15,
   "id": "ea1a4450",
   "metadata": {},
   "outputs": [
    {
     "data": {
      "text/latex": [
       "$\\displaystyle \\left[\\begin{matrix}0 & 1\\\\- \\frac{\\beta q^{2}}{h^{2}} + 1.0 g h & \\frac{2 \\beta q}{h}\\end{matrix}\\right]$"
      ],
      "text/plain": [
       "Matrix([\n",
       "[                        0,          1],\n",
       "[-beta*q**2/h**2 + 1.0*g*h, 2*beta*q/h]])"
      ]
     },
     "execution_count": 15,
     "metadata": {},
     "output_type": "execute_result"
    }
   ],
   "source": [
    "jac"
   ]
  },
  {
   "cell_type": "code",
   "execution_count": 17,
   "id": "1ac86b40",
   "metadata": {},
   "outputs": [],
   "source": [
    "eigs = jac.eigenvals()"
   ]
  },
  {
   "cell_type": "code",
   "execution_count": 18,
   "id": "28153abb",
   "metadata": {},
   "outputs": [
    {
     "data": {
      "text/plain": [
       "{1.0*beta*q/h - 1.0*sqrt(beta**2*q**2 - beta*q**2 + g*h**3)/h: 1,\n",
       " 1.0*beta*q/h + 1.0*sqrt(beta**2*q**2 - beta*q**2 + g*h**3)/h: 1}"
      ]
     },
     "execution_count": 18,
     "metadata": {},
     "output_type": "execute_result"
    }
   ],
   "source": [
    "eigs"
   ]
  },
  {
   "cell_type": "code",
   "execution_count": 20,
   "id": "394f9ff3",
   "metadata": {},
   "outputs": [
    {
     "ename": "KeyError",
     "evalue": "0",
     "output_type": "error",
     "traceback": [
      "\u001b[0;31m---------------------------------------------------------------------------\u001b[0m",
      "\u001b[0;31mKeyError\u001b[0m                                  Traceback (most recent call last)",
      "Input \u001b[0;32mIn [20]\u001b[0m, in \u001b[0;36m<module>\u001b[0;34m\u001b[0m\n\u001b[0;32m----> 1\u001b[0m \u001b[43meigs\u001b[49m\u001b[43m[\u001b[49m\u001b[38;5;241;43m0\u001b[39;49m\u001b[43m]\u001b[49m\n",
      "\u001b[0;31mKeyError\u001b[0m: 0"
     ]
    }
   ],
   "source": [
    "eigs[0]"
   ]
  },
  {
   "cell_type": "code",
   "execution_count": 21,
   "id": "e39e9558",
   "metadata": {},
   "outputs": [],
   "source": [
    "from IPython.display import display"
   ]
  },
  {
   "cell_type": "code",
   "execution_count": 22,
   "id": "e691dcfa",
   "metadata": {},
   "outputs": [
    {
     "data": {
      "text/plain": [
       "{1.0*beta*q/h - 1.0*sqrt(beta**2*q**2 - beta*q**2 + g*h**3)/h: 1,\n",
       " 1.0*beta*q/h + 1.0*sqrt(beta**2*q**2 - beta*q**2 + g*h**3)/h: 1}"
      ]
     },
     "metadata": {},
     "output_type": "display_data"
    }
   ],
   "source": [
    "display(eigs)"
   ]
  },
  {
   "cell_type": "code",
   "execution_count": 25,
   "id": "6808b4f7",
   "metadata": {},
   "outputs": [
    {
     "data": {
      "text/plain": [
       "[1.0*beta*q/h - 1.0*sqrt(beta**2*q**2 - beta*q**2 + g*h**3)/h,\n",
       " 1.0*beta*q/h + 1.0*sqrt(beta**2*q**2 - beta*q**2 + g*h**3)/h]"
      ]
     },
     "metadata": {},
     "output_type": "display_data"
    }
   ],
   "source": [
    "import IPython.display as disp\n",
    "disp.display(list(eigs.keys()))   "
   ]
  },
  {
   "cell_type": "code",
   "execution_count": 31,
   "id": "1ec4a542",
   "metadata": {},
   "outputs": [],
   "source": [
    "val_mat_1 = list(eigs.keys())[0]\n",
    "val_mat_2 = list(eigs.keys())[1]"
   ]
  },
  {
   "cell_type": "code",
   "execution_count": 35,
   "id": "1d8650be",
   "metadata": {},
   "outputs": [],
   "source": [
    "vals_1 = sp.simplify(val_mat_1)\n",
    "vals_2 = sp.simplify(val_mat_2)"
   ]
  },
  {
   "cell_type": "code",
   "execution_count": 33,
   "id": "638bf0e6",
   "metadata": {},
   "outputs": [
    {
     "data": {
      "text/latex": [
       "$\\displaystyle \\alpha^{2}$"
      ],
      "text/plain": [
       "alpha**2"
      ]
     },
     "execution_count": 33,
     "metadata": {},
     "output_type": "execute_result"
    }
   ],
   "source": [
    "aa**2"
   ]
  },
  {
   "cell_type": "code",
   "execution_count": 36,
   "id": "5f2b7ffd",
   "metadata": {},
   "outputs": [
    {
     "data": {
      "text/latex": [
       "$\\displaystyle \\frac{1.0 \\left(\\beta q - \\sqrt{\\beta^{2} q^{2} - \\beta q^{2} + g h^{3}}\\right)}{h}$"
      ],
      "text/plain": [
       "1.0*(beta*q - sqrt(beta**2*q**2 - beta*q**2 + g*h**3))/h"
      ]
     },
     "metadata": {},
     "output_type": "display_data"
    },
    {
     "data": {
      "text/latex": [
       "$\\displaystyle \\frac{1.0 \\left(\\beta q + \\sqrt{\\beta^{2} q^{2} - \\beta q^{2} + g h^{3}}\\right)}{h}$"
      ],
      "text/plain": [
       "1.0*(beta*q + sqrt(beta**2*q**2 - beta*q**2 + g*h**3))/h"
      ]
     },
     "metadata": {},
     "output_type": "display_data"
    }
   ],
   "source": [
    "display(vals_1)\n",
    "display(vals_2)"
   ]
  },
  {
   "cell_type": "code",
   "execution_count": 38,
   "id": "1d663bb8",
   "metadata": {},
   "outputs": [],
   "source": [
    "from sympy.abc import lamda"
   ]
  },
  {
   "cell_type": "code",
   "execution_count": 42,
   "id": "061d9db4",
   "metadata": {},
   "outputs": [],
   "source": [
    "λ1, λ2 = sp.symbols('lamda1, lamda2')"
   ]
  },
  {
   "cell_type": "code",
   "execution_count": 46,
   "id": "a43bf5c7",
   "metadata": {},
   "outputs": [
    {
     "data": {
      "text/latex": [
       "$\\displaystyle \\lambda_{1}$"
      ],
      "text/plain": [
       "lamda1"
      ]
     },
     "metadata": {},
     "output_type": "display_data"
    },
    {
     "data": {
      "text/latex": [
       "$\\displaystyle \\lambda_{2}$"
      ],
      "text/plain": [
       "lamda2"
      ]
     },
     "metadata": {},
     "output_type": "display_data"
    }
   ],
   "source": [
    "display(λ1, λ2)"
   ]
  },
  {
   "cell_type": "code",
   "execution_count": null,
   "id": "bedaee1f",
   "metadata": {},
   "outputs": [],
   "source": []
  }
 ],
 "metadata": {
  "kernelspec": {
   "display_name": "Python 3 (ipykernel)",
   "language": "python",
   "name": "python3"
  },
  "language_info": {
   "codemirror_mode": {
    "name": "ipython",
    "version": 3
   },
   "file_extension": ".py",
   "mimetype": "text/x-python",
   "name": "python",
   "nbconvert_exporter": "python",
   "pygments_lexer": "ipython3",
   "version": "3.8.10"
  }
 },
 "nbformat": 4,
 "nbformat_minor": 5
}
